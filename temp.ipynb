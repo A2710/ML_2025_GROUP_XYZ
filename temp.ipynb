{
 "cells": [
  {
   "cell_type": "code",
   "execution_count": 7,
   "metadata": {},
   "outputs": [],
   "source": [
    "import cv2\n",
    "import random\n",
    "# Load the image\n",
    "image = cv2.imread(\"0000001.jpg\")\n",
    "\n",
    "# Read annotations from the file\n",
    "with open(\"annotations.txt\", \"r\") as file:\n",
    "    lines = file.readlines()\n",
    "\n",
    "# Process each line in the file\n",
    "object_colors = {}\n",
    "\n",
    "# Process each line in the file\n",
    "for line in lines:\n",
    "    values = list(map(int, line.strip().split(\",\")))  # Convert to integers\n",
    "    frame_id, object_id, x, y, w, h, score, obj_class, visibility, ignored = values  \n",
    "\n",
    "    # Assign a random color for each object_id if not already assigned\n",
    "    if object_id not in object_colors:\n",
    "        object_colors[object_id] = (random.randint(0, 255), random.randint(0, 255), random.randint(0, 255))\n",
    "\n",
    "    # Get the assigned color\n",
    "    color = object_colors[object_id]\n",
    "\n",
    "    # Draw the bounding box\n",
    "    cv2.rectangle(image, (x, y), (x + w, y + h), color, 2)\n",
    "\n",
    "    # Display object ID near the bounding box\n",
    "    cv2.putText(image, f\"ID: {object_id}\", (x, y - 5), cv2.FONT_HERSHEY_SIMPLEX, 0.5, color, 1)\n",
    "\n",
    "# Show the image with bounding boxes\n",
    "cv2.imshow(\"Annotated Image\", image)\n",
    "cv2.waitKey(0)\n",
    "cv2.destroyAllWindows()\n"
   ]
  },
  {
   "cell_type": "code",
   "execution_count": null,
   "metadata": {},
   "outputs": [],
   "source": []
  },
  {
   "cell_type": "code",
   "execution_count": 1,
   "metadata": {},
   "outputs": [
    {
     "name": "stdout",
     "output_type": "stream",
     "text": [
      "True\n"
     ]
    }
   ],
   "source": [
    "import torch\n",
    "print(torch.cuda.is_available())  # Should return True if a GPU is detected\n"
   ]
  },
  {
   "cell_type": "code",
   "execution_count": null,
   "metadata": {},
   "outputs": [],
   "source": []
  }
 ],
 "metadata": {
  "kernelspec": {
   "display_name": "Python 3",
   "language": "python",
   "name": "python3"
  },
  "language_info": {
   "codemirror_mode": {
    "name": "ipython",
    "version": 3
   },
   "file_extension": ".py",
   "mimetype": "text/x-python",
   "name": "python",
   "nbconvert_exporter": "python",
   "pygments_lexer": "ipython3",
   "version": "3.12.6"
  }
 },
 "nbformat": 4,
 "nbformat_minor": 2
}
